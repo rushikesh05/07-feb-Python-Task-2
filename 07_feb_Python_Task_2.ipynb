{
  "nbformat": 4,
  "nbformat_minor": 0,
  "metadata": {
    "colab": {
      "provenance": []
    },
    "kernelspec": {
      "name": "python3",
      "display_name": "Python 3"
    },
    "language_info": {
      "name": "python"
    }
  },
  "cells": [
    {
      "cell_type": "markdown",
      "source": [
        "####Q1. You are writing code for a company. The requirement of the company is that you create a python function that will check whether the password entered by the user is correct or not. The function should take the password as input and return the string “Valid Password” if the entered password follows the below-given password guidelines else it should return “Invalid Password”.\n",
        "#####Note: 1. The Password should contain at least two uppercase letters and at least two lowercase letters.\n",
        "#####2. The Password should contain at least a number and three special characters.\n",
        "#####3. The length of the password should be 10 characters long."
      ],
      "metadata": {
        "id": "ES1YFyUt1-XC"
      }
    },
    {
      "cell_type": "code",
      "execution_count": 27,
      "metadata": {
        "id": "aEMyNnFg15MV"
      },
      "outputs": [],
      "source": [
        "import re\n",
        "\n",
        "def validate_password(password):\n",
        "    # Define the regex patterns to match the password requirements as given in question\n",
        "    uppercase_pattern = r'[A-Z].*[A-Z]'\n",
        "    lowercase_pattern = r'[a-z].*[a-z]'\n",
        "    number_pattern = r'\\d'\n",
        "    special_char_pattern = r'[!@#$%^&*()_+={}\\[\\]:;\\\"\\'<>,.?/\\\\-]'\n",
        "    \n",
        "    # Check if the password satisfies all the requirements\n",
        "    if (len(password) == 10 and\n",
        "        re.search(uppercase_pattern, password) and\n",
        "        re.search(lowercase_pattern, password) and\n",
        "        re.search(number_pattern, password) and\n",
        "        len(re.findall(special_char_pattern, password)) >= 3):\n",
        "        return \"Valid Password\"\n",
        "    else:\n",
        "        return \"Invalid Password\"\n"
      ]
    },
    {
      "cell_type": "code",
      "source": [
        "validate_password(\"rushi\")"
      ],
      "metadata": {
        "colab": {
          "base_uri": "https://localhost:8080/",
          "height": 35
        },
        "id": "xAyrIuHC6JQJ",
        "outputId": "79411017-e840-4e23-dfda-9306117b6fd1"
      },
      "execution_count": 28,
      "outputs": [
        {
          "output_type": "execute_result",
          "data": {
            "text/plain": [
              "'Invalid Password'"
            ],
            "application/vnd.google.colaboratory.intrinsic+json": {
              "type": "string"
            }
          },
          "metadata": {},
          "execution_count": 28
        }
      ]
    },
    {
      "cell_type": "code",
      "source": [
        "validate_password(\"Rushikesh123\")"
      ],
      "metadata": {
        "colab": {
          "base_uri": "https://localhost:8080/",
          "height": 35
        },
        "id": "DLUaF4Yv6hQw",
        "outputId": "26430ee5-04f5-47a6-9316-0e45c051d78f"
      },
      "execution_count": 29,
      "outputs": [
        {
          "output_type": "execute_result",
          "data": {
            "text/plain": [
              "'Invalid Password'"
            ],
            "application/vnd.google.colaboratory.intrinsic+json": {
              "type": "string"
            }
          },
          "metadata": {},
          "execution_count": 29
        }
      ]
    },
    {
      "cell_type": "code",
      "source": [
        "validate_password(\"Rushik@123\")"
      ],
      "metadata": {
        "colab": {
          "base_uri": "https://localhost:8080/",
          "height": 35
        },
        "id": "h3XL2n9s6n3I",
        "outputId": "56937441-fcd5-432e-954e-be4e00cb44bc"
      },
      "execution_count": 30,
      "outputs": [
        {
          "output_type": "execute_result",
          "data": {
            "text/plain": [
              "'Invalid Password'"
            ],
            "application/vnd.google.colaboratory.intrinsic+json": {
              "type": "string"
            }
          },
          "metadata": {},
          "execution_count": 30
        }
      ]
    },
    {
      "cell_type": "code",
      "source": [
        "validate_password(\"Rush=K+@12\")"
      ],
      "metadata": {
        "colab": {
          "base_uri": "https://localhost:8080/",
          "height": 35
        },
        "id": "urwnHhvk6tpF",
        "outputId": "b7e039e4-ce3a-4f49-9c22-acb1796d10f0"
      },
      "execution_count": 31,
      "outputs": [
        {
          "output_type": "execute_result",
          "data": {
            "text/plain": [
              "'Valid Password'"
            ],
            "application/vnd.google.colaboratory.intrinsic+json": {
              "type": "string"
            }
          },
          "metadata": {},
          "execution_count": 31
        }
      ]
    },
    {
      "cell_type": "markdown",
      "source": [
        "####Q2. Solve the below-given questions using at least one of the following:\n",
        "####1. Lambda function\n",
        "####2. Filter function\n",
        "####3. Zap function\n",
        "####4. List Comprehension\n"
      ],
      "metadata": {
        "id": "8Y07tb778hc_"
      }
    },
    {
      "cell_type": "markdown",
      "source": [
        "#### Check if the string starts with a particular letter\n",
        "\n"
      ],
      "metadata": {
        "id": "lyGjhvsh9azS"
      }
    },
    {
      "cell_type": "code",
      "source": [
        "##Using Lambada Function\n",
        "\n",
        "starts_with = lambda x, letter: True if x.startswith(letter) else False\n",
        "# Example usage\n",
        "print(starts_with('apple', 'a')) \n",
        "print(starts_with('data', 'm')) \n"
      ],
      "metadata": {
        "colab": {
          "base_uri": "https://localhost:8080/"
        },
        "id": "BWUp_COJ7m9M",
        "outputId": "5be6de4d-6e04-4eb4-ce00-47dd5c707854"
      },
      "execution_count": 33,
      "outputs": [
        {
          "output_type": "stream",
          "name": "stdout",
          "text": [
            "True\n",
            "False\n"
          ]
        }
      ]
    },
    {
      "cell_type": "markdown",
      "source": [
        "#####Check if the string is numeric"
      ],
      "metadata": {
        "id": "6i2FGRtM9nnz"
      }
    },
    {
      "cell_type": "code",
      "source": [
        "##using lambada function\n",
        "is_numeric = lambda x: x.isnumeric()\n",
        "# Example usage\n",
        "print(is_numeric('679')) \n",
        "print(is_numeric('11.3'))\n"
      ],
      "metadata": {
        "colab": {
          "base_uri": "https://localhost:8080/"
        },
        "id": "tDUusdmj9cL5",
        "outputId": "0c4741d0-923c-4776-ba23-c0c399edf0bd"
      },
      "execution_count": 34,
      "outputs": [
        {
          "output_type": "stream",
          "name": "stdout",
          "text": [
            "True\n",
            "False\n"
          ]
        }
      ]
    },
    {
      "cell_type": "markdown",
      "source": [
        "####Sort a list of tuples having fruit names and their quantity. [(\"mango\",99),(\"orange\",80), (\"grapes\", 1000)]"
      ],
      "metadata": {
        "id": "ws-X4Amh9xR2"
      }
    },
    {
      "cell_type": "code",
      "source": [
        "##using list comprehension\n",
        "\n",
        "fruits = [(\"mango\",99),(\"orange\",80), (\"grapes\", 1000)]\n",
        "sorted_fruits = sorted(fruits, key=lambda x: x[1])\n",
        "\n",
        "print(sorted_fruits) \n"
      ],
      "metadata": {
        "colab": {
          "base_uri": "https://localhost:8080/"
        },
        "id": "LiLKtd5n9r6W",
        "outputId": "0d9fc03f-08fc-40cc-c171-b4524311ee51"
      },
      "execution_count": 35,
      "outputs": [
        {
          "output_type": "stream",
          "name": "stdout",
          "text": [
            "[('orange', 80), ('mango', 99), ('grapes', 1000)]\n"
          ]
        }
      ]
    },
    {
      "cell_type": "markdown",
      "source": [
        "#### Find the squares of numbers from 1 to 10"
      ],
      "metadata": {
        "id": "c1Boj8O7-RwK"
      }
    },
    {
      "cell_type": "code",
      "source": [
        "##Using List Comprehension:\n",
        "\n",
        "\n",
        "squares = [x**2 for x in range(1, 11)]\n",
        "\n",
        "print(squares) \n"
      ],
      "metadata": {
        "colab": {
          "base_uri": "https://localhost:8080/"
        },
        "id": "hiYppg6B-J4F",
        "outputId": "634a79bb-9360-40c0-9bd4-be1d8f6b1b35"
      },
      "execution_count": 36,
      "outputs": [
        {
          "output_type": "stream",
          "name": "stdout",
          "text": [
            "[1, 4, 9, 16, 25, 36, 49, 64, 81, 100]\n"
          ]
        }
      ]
    },
    {
      "cell_type": "markdown",
      "source": [
        "####Find the cube root of numbers from 1 to 10"
      ],
      "metadata": {
        "id": "tARpYoI5-imG"
      }
    },
    {
      "cell_type": "code",
      "source": [
        "#Using List Comprehension:\n",
        "\n",
        "import math\n",
        "cube_roots = [math.pow(x, 1/3) for x in range(1, 11)]\n",
        "\n",
        "print(cube_roots) "
      ],
      "metadata": {
        "colab": {
          "base_uri": "https://localhost:8080/"
        },
        "id": "7weCmMPX-ZHm",
        "outputId": "97e5a836-4634-49f2-b1f1-99e1c986e42b"
      },
      "execution_count": 37,
      "outputs": [
        {
          "output_type": "stream",
          "name": "stdout",
          "text": [
            "[1.0, 1.2599210498948732, 1.4422495703074083, 1.5874010519681994, 1.7099759466766968, 1.8171205928321397, 1.912931182772389, 2.0, 2.080083823051904, 2.154434690031884]\n"
          ]
        }
      ]
    },
    {
      "cell_type": "markdown",
      "source": [
        "####Check if a given number is even"
      ],
      "metadata": {
        "id": "AB6GqDRK-xe7"
      }
    },
    {
      "cell_type": "code",
      "source": [
        "#Using Lambda function:\n",
        "\n",
        "is_even = lambda x: x % 2 == 0\n",
        "print(is_even(6)) \n",
        "print(is_even(15)) \n"
      ],
      "metadata": {
        "colab": {
          "base_uri": "https://localhost:8080/"
        },
        "id": "hXEHxRCg-qZv",
        "outputId": "3352d84e-e05d-4672-dc62-92f9348828bf"
      },
      "execution_count": 38,
      "outputs": [
        {
          "output_type": "stream",
          "name": "stdout",
          "text": [
            "True\n",
            "False\n"
          ]
        }
      ]
    },
    {
      "cell_type": "markdown",
      "source": [
        "###Filter odd numbers from the given list.[1,2,3,4,5,6,7,8,9,10]"
      ],
      "metadata": {
        "id": "0r2HfEZy_Akx"
      }
    },
    {
      "cell_type": "code",
      "source": [
        "# Using lambda function and filter function\n",
        "\n",
        "lst = [1,2,3,4,5,6,7,8,9,10]\n",
        "\n",
        "filtered_lst = list(filter(lambda x: x%2 != 0, lst))\n",
        "\n",
        "print(filtered_lst)\n"
      ],
      "metadata": {
        "colab": {
          "base_uri": "https://localhost:8080/"
        },
        "id": "T2Dk1QRj-6jr",
        "outputId": "ff61a1ef-547e-4633-a58c-2a4149f6f78a"
      },
      "execution_count": 39,
      "outputs": [
        {
          "output_type": "stream",
          "name": "stdout",
          "text": [
            "[1, 3, 5, 7, 9]\n"
          ]
        }
      ]
    },
    {
      "cell_type": "markdown",
      "source": [
        "####Sort a list of integers into positive and negative integers lists. [1,2,3,4,5,6,-1,-2,-3,-4,-5,0]"
      ],
      "metadata": {
        "id": "fJPhvxql_xZl"
      }
    },
    {
      "cell_type": "code",
      "source": [
        "# Using lambda function and filter function\n",
        "\n",
        "lst = [1,2,3,4,5,6,-1,-2,-3,-4,-5,0]\n",
        "\n",
        "positive_lst = list(filter(lambda x: x > 0, lst))\n",
        "negative_lst = list(filter(lambda x: x < 0, lst))\n",
        "\n",
        "print(positive_lst) \n",
        "print(negative_lst) \n"
      ],
      "metadata": {
        "colab": {
          "base_uri": "https://localhost:8080/"
        },
        "id": "DyUuaz3g_mQg",
        "outputId": "fc02d1ce-a069-47ff-8431-94d453c69e4a"
      },
      "execution_count": 40,
      "outputs": [
        {
          "output_type": "stream",
          "name": "stdout",
          "text": [
            "[1, 2, 3, 4, 5, 6]\n",
            "[-1, -2, -3, -4, -5]\n"
          ]
        }
      ]
    },
    {
      "cell_type": "code",
      "source": [],
      "metadata": {
        "id": "GVvkR2PuADcx"
      },
      "execution_count": null,
      "outputs": []
    }
  ]
}